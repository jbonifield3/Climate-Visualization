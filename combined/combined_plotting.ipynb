{
 "cells": [
  {
   "cell_type": "code",
   "execution_count": 1,
   "metadata": {},
   "outputs": [
    {
     "data": {
      "text/html": [
       "<style>.container { width:90% !important; }</style>"
      ],
      "text/plain": [
       "<IPython.core.display.HTML object>"
      ]
     },
     "metadata": {},
     "output_type": "display_data"
    }
   ],
   "source": [
    "from IPython.core.display import display, HTML\n",
    "display(HTML(\"<style>.container { width:90% !important; }</style>\"))"
   ]
  },
  {
   "cell_type": "code",
   "execution_count": 24,
   "metadata": {},
   "outputs": [],
   "source": [
    "import os\n",
    "from time import time\n",
    "\n",
    "import plotly.plotly as py\n",
    "import plotly.graph_objs as go\n",
    "\n",
    "import matplotlib.pyplot as plt\n",
    "import pandas as pd"
   ]
  },
  {
   "cell_type": "markdown",
   "metadata": {},
   "source": [
    "## Mixed Plotting Experiment - Temperature Data (Choropleth) with Power Plant Data (Scatter) and CO2 Data (Bubble Plot)"
   ]
  },
  {
   "cell_type": "markdown",
   "metadata": {},
   "source": [
    "### Load/Preprocess Data"
   ]
  },
  {
   "cell_type": "markdown",
   "metadata": {},
   "source": [
    "#### Power Plant"
   ]
  },
  {
   "cell_type": "code",
   "execution_count": 3,
   "metadata": {},
   "outputs": [
    {
     "name": "stdout",
     "output_type": "stream",
     "text": [
      "Load time: 17 sec\n"
     ]
    }
   ],
   "source": [
    "t0 = time()\n",
    "power_df = pd.read_csv('https://docs.google.com/spreadsheets/d/1RkEs8QgM9aeRU4LJsx1D587tpgsLgpHbqdtQlQH-wOA/export?format=csv', index_col=0)\n",
    "print('Load time: %i sec' % (time() - t0))"
   ]
  },
  {
   "cell_type": "code",
   "execution_count": 4,
   "metadata": {},
   "outputs": [],
   "source": [
    "# Plotting constants \n",
    "MIN_MARKER_SIZE = 4\n",
    "MAX_MARKER_SIZE = 20\n",
    "START_YEAR = 1970\n",
    "END_YEAR = 1980"
   ]
  },
  {
   "cell_type": "code",
   "execution_count": 5,
   "metadata": {},
   "outputs": [],
   "source": [
    "def get_formatting(df, min_point, max_point, min_netgen, max_netgen):\n",
    "    \n",
    "    # Get Colors for points\n",
    "    if df['Class'] == 'Clean':\n",
    "        vals = ['rgb(0, 128, 0)','rgb(144, 238, 144)']\n",
    "    elif df['Class'] == 'Fossil':\n",
    "        vals = ['rgb(255, 0, 0)','rgb(242, 177, 172)']\n",
    "    else:\n",
    "        raise Exception('Invalid Class {} found.'.format(Class))\n",
    "        \n",
    "    #Normalize netgen data to 0-1 range\n",
    "    vals.append(min_point + ((df['netgen'] - min_netgen) / (max_netgen - min_netgen)) * (max_point - min_point))\n",
    "    return vals\n",
    "\n",
    "max_netgen = power_df['netgen'].max()\n",
    "min_netgen = power_df['netgen'].min()\n",
    "power_df['Formatting'] = power_df.apply(lambda x: get_formatting(x, MIN_MARKER_SIZE, MAX_MARKER_SIZE, min_netgen, max_netgen), axis=1)"
   ]
  },
  {
   "cell_type": "markdown",
   "metadata": {},
   "source": [
    "#### Temperature"
   ]
  },
  {
   "cell_type": "code",
   "execution_count": 6,
   "metadata": {},
   "outputs": [
    {
     "name": "stdout",
     "output_type": "stream",
     "text": [
      "Load time: 49 sec\n"
     ]
    }
   ],
   "source": [
    "from load_temperature_data import get_all_states\n",
    "\n",
    "t0 = time()\n",
    "temp_df = get_all_states()\n",
    "print('Load time: %i sec' % (time() - t0))"
   ]
  },
  {
   "cell_type": "markdown",
   "metadata": {},
   "source": [
    "#### CO2"
   ]
  },
  {
   "cell_type": "code",
   "execution_count": 7,
   "metadata": {},
   "outputs": [],
   "source": [
    "co2_df = pd.read_csv(os.path.join('..', 'data', 'CO2-data.csv'))"
   ]
  },
  {
   "cell_type": "code",
   "execution_count": 8,
   "metadata": {},
   "outputs": [],
   "source": [
    "# Set longitude to (-180, +180]\n",
    "co2_df['DLONG'] = co2_df['LONG'] - 180\n",
    "# Set longitude to [-90, +90)\n",
    "co2_df['DLAT'] = -co2_df['LAT'] + 90"
   ]
  },
  {
   "cell_type": "code",
   "execution_count": 9,
   "metadata": {},
   "outputs": [],
   "source": [
    "# Filter by latlon to narrow geographic area\n",
    "co2_USA = co2_df[(co2_df[\"DLONG\"] < -60) & (co2_df[\"DLAT\"] > 15)]"
   ]
  },
  {
   "cell_type": "markdown",
   "metadata": {},
   "source": [
    "### Single year plot"
   ]
  },
  {
   "cell_type": "code",
   "execution_count": 53,
   "metadata": {},
   "outputs": [],
   "source": [
    "power_df_1980 = power_df[power_df['year'] == 1980]\n",
    "temp_df_1980 = temp_df.xs(1980, level='year')\n",
    "MIN_CO2 = 10\n",
    "co2_df_1980 = co2_USA[co2_USA['1980'] > 10]"
   ]
  },
  {
   "cell_type": "code",
   "execution_count": 82,
   "metadata": {},
   "outputs": [
    {
     "data": {
      "text/html": [
       "<iframe id=\"igraph\" scrolling=\"no\" style=\"border:none;\" seamless=\"seamless\" src=\"https://plot.ly/~wcsmith/6.embed\" height=\"750px\" width=\"1000px\"></iframe>"
      ],
      "text/plain": [
       "<plotly.tools.PlotlyDisplay object>"
      ]
     },
     "execution_count": 82,
     "metadata": {},
     "output_type": "execute_result"
    }
   ],
   "source": [
    "data = [\n",
    "    go.Choropleth(\n",
    "        name='Temperature',\n",
    "        locations=temp_df_1980.reset_index()['state'],\n",
    "        text=temp_df_1980['10y'].apply(lambda x: '%.2f °C' % x),\n",
    "        hoverinfo='location+text+name',\n",
    "        z=temp_df_1980['10y'],\n",
    "        zmin=temp_df.min()['10y'],\n",
    "        zmid=0,\n",
    "        zmax=temp_df.max()['10y'],\n",
    "        locationmode='USA-states',\n",
    "        colorscale='RdBu',\n",
    "        colorbar=dict(\n",
    "            title='Temperature',\n",
    "            x=-0.1,\n",
    "            xanchor='left',\n",
    "            ticksuffix=' ° C',\n",
    "            showticksuffix='last',\n",
    "            len=.6\n",
    "        )\n",
    "    ),\n",
    "    go.Scattergeo(\n",
    "        name='CO<sub>2</sub>',\n",
    "        lat=co2_df_1980['DLAT'],\n",
    "        lon=co2_df_1980['DLONG'],\n",
    "        text=co2_df_1980['1980'].apply(lambda x: '%.2f KG' % x),\n",
    "        marker=go.scattergeo.Marker(\n",
    "            opacity=0.7,\n",
    "            size=co2_df_1980['1980']/1.5,\n",
    "            symbol='circle',\n",
    "            line=dict(\n",
    "                width=0\n",
    "            ),\n",
    "            color=co2_df_1980['1980'],\n",
    "            cmin=MIN_CO2,\n",
    "            cmax=co2_df_1980['1980'].max(),\n",
    "            colorscale=[\n",
    "                (0, '#969696'),\n",
    "                (0.333, '#737373'),\n",
    "                (0.667, '#525252'),\n",
    "                (1, '#252525')\n",
    "            ],\n",
    "            colorbar=dict(\n",
    "                title='CO<sub>2</sub>',\n",
    "                xanchor='left',\n",
    "                ticksuffix=' KG',\n",
    "                showticksuffix='last',\n",
    "                len=.6\n",
    "            ) \n",
    "        )\n",
    "    ),\n",
    "    go.Scattergeo(\n",
    "        name='Power',\n",
    "        locationmode='USA-states',\n",
    "        lat=power_df_1980['Latitude'],\n",
    "        lon=power_df_1980['Longitude'],\n",
    "        mode='markers',\n",
    "        marker=go.scattergeo.Marker(\n",
    "            size=[i[2] for i in power_df_1980['Formatting'].tolist()],\n",
    "            color=[i[0] for i in power_df_1980['Formatting'].tolist()],\n",
    "            opacity=0.7,\n",
    "            line=dict(\n",
    "                width=0.5\n",
    "            )\n",
    "        ),\n",
    "        text = power_df_1980[['plant name','netgen']].apply(\n",
    "            lambda j: '<br>Net Generation (MWh): '.join(j.astype(str)),\n",
    "            axis=1\n",
    "        ),\n",
    "        hoverinfo='text+name'\n",
    "    )\n",
    "]\n",
    "\n",
    "layout = go.Layout(\n",
    "    title = go.layout.Title(\n",
    "        text = '1980 Power Plant, Temperature, and CO2 Data'\n",
    "    ),\n",
    "    width=1000,\n",
    "    height=750,\n",
    "    autosize=False,\n",
    "    showlegend=False,\n",
    "    geo = go.layout.Geo(\n",
    "        scope = 'usa',\n",
    "        projection = go.layout.geo.Projection(type = 'albers usa'),\n",
    "        showlakes = True,\n",
    "        lakecolor = 'rgb(255, 255, 255)'),\n",
    "    updatemenus=[\n",
    "        dict(\n",
    "            type = 'buttons',\n",
    "            active=0,\n",
    "            buttons=[\n",
    "                dict(\n",
    "                    args=[{'visible': [True, True, True]}],\n",
    "                    label='All',\n",
    "                    method='update'\n",
    "                ),\n",
    "                dict(\n",
    "                    args=[{'visible': [True, False, False]}],\n",
    "                    label='Temperature',\n",
    "                    method='update'\n",
    "                ),\n",
    "                dict(\n",
    "                    args=[{'visible': [False, True, False]}],\n",
    "                    label='CO2',\n",
    "                    method='update'\n",
    "                ),\n",
    "                dict(\n",
    "                    args=[{'visible': [False, False, True]}],\n",
    "                    label='Power',\n",
    "                    method='update'\n",
    "                )\n",
    "            ],\n",
    "            direction = 'left',\n",
    "            pad = {'r': 10, 't': 10},\n",
    "            x = 0.1,\n",
    "            xanchor = 'left',\n",
    "            y = 1.1,\n",
    "            yanchor = 'top' \n",
    "        ),\n",
    "    ]\n",
    ")\n",
    "\n",
    "fig = go.Figure(data=data, layout=layout)\n",
    "py.iplot(fig, filename = 'd3-combo-map')"
   ]
  },
  {
   "cell_type": "markdown",
   "metadata": {},
   "source": [
    "### Multi-year with Slider"
   ]
  },
  {
   "cell_type": "code",
   "execution_count": 104,
   "metadata": {},
   "outputs": [],
   "source": [
    "MIN_TEMP = temp_df.min()['10y']\n",
    "MAX_TEMP = temp_df.max()['10y']"
   ]
  },
  {
   "cell_type": "code",
   "execution_count": 105,
   "metadata": {},
   "outputs": [],
   "source": [
    "def get_temp_trace_for_year(year):\n",
    "    temp_df_yr = temp_df.xs(year, level='year')\n",
    "    return go.Choropleth(\n",
    "        visible=False,\n",
    "        name='Temperature',\n",
    "        locations=temp_df_yr.reset_index()['state'],\n",
    "        text=temp_df_yr['10y'].apply(lambda x: '%.2f °C' % x),\n",
    "        hoverinfo='location+text+name',\n",
    "        z=temp_df_yr['10y'],\n",
    "        zmin=MIN_TEMP,\n",
    "        zmid=0,\n",
    "        zmax=MAX_TEMP,\n",
    "        locationmode='USA-states',\n",
    "        colorscale='RdBu',\n",
    "        colorbar=dict(\n",
    "            title='Temperature',\n",
    "            x=-0.1,\n",
    "            xanchor='left',\n",
    "            ticksuffix=' ° C',\n",
    "            showticksuffix='last'\n",
    "        )\n",
    "    )"
   ]
  },
  {
   "cell_type": "code",
   "execution_count": 106,
   "metadata": {},
   "outputs": [
    {
     "name": "stdout",
     "output_type": "stream",
     "text": [
      "60.152330000000006\n"
     ]
    }
   ],
   "source": [
    "MIN_CO2 = 10 # To reduce plot noise\n",
    "MAX_CO2 = co2_USA.iloc[:, 3:-2].max().max()\n",
    "\n",
    "print(MAX_CO2)"
   ]
  },
  {
   "cell_type": "code",
   "execution_count": 107,
   "metadata": {},
   "outputs": [],
   "source": [
    "def get_co2_trace_for_year(year):\n",
    "    co2_df_yr = co2_USA[co2_USA[str(year)] > MIN_CO2]\n",
    "    return go.Scattergeo(\n",
    "        visible=False,\n",
    "        name='CO<sub>2</sub>',\n",
    "        lat=co2_df_yr['DLAT'],\n",
    "        lon=co2_df_yr['DLONG'],\n",
    "        text=co2_df_yr[str(year)].apply(lambda x: '%.2f KG' % x),\n",
    "        marker=go.scattergeo.Marker(\n",
    "            opacity=0.7,\n",
    "            size=co2_df_yr[str(year)]/1.5,\n",
    "            symbol='circle',\n",
    "            line=dict(\n",
    "                width=0\n",
    "            ),\n",
    "            color=co2_df_yr[str(year)],\n",
    "            cmin=MIN_CO2,\n",
    "            cmax=MAX_CO2,\n",
    "            colorscale=[\n",
    "                (0, '#969696'),\n",
    "                (0.333, '#737373'),\n",
    "                (0.667, '#525252'),\n",
    "                (1, '#252525')\n",
    "            ],\n",
    "            colorbar=dict(\n",
    "                title='CO<sub>2</sub>',\n",
    "                xanchor='left'\n",
    "            ) \n",
    "        )\n",
    "    )"
   ]
  },
  {
   "cell_type": "code",
   "execution_count": 108,
   "metadata": {},
   "outputs": [],
   "source": [
    "def get_power_trace_for_year(year):\n",
    "    power_df_yr = power_df[power_df['year'] == year]\n",
    "    return go.Scattergeo(\n",
    "        visible=False,\n",
    "        name='Power',\n",
    "        locationmode='USA-states',\n",
    "        lat=power_df_yr['Latitude'],\n",
    "        lon=power_df_yr['Longitude'],\n",
    "        mode='markers',\n",
    "        marker=go.scattergeo.Marker(\n",
    "            size=[i[2] for i in power_df_yr['Formatting'].tolist()],\n",
    "            color=[i[0] for i in power_df_yr['Formatting'].tolist()],\n",
    "            opacity=0.7,\n",
    "            line=dict(\n",
    "                width=0.5\n",
    "            )\n",
    "        ),\n",
    "        text = power_df_yr[['plant name','netgen']].apply(\n",
    "            lambda j: '<br>Net Generation (MWh): '.join(j.astype(str)),\n",
    "            axis=1\n",
    "        ),\n",
    "        hoverinfo='text+name'\n",
    "    )"
   ]
  },
  {
   "cell_type": "code",
   "execution_count": 118,
   "metadata": {},
   "outputs": [],
   "source": [
    "start_year = 1970\n",
    "end_year = 2000\n",
    "year_count = len(range(start_year, end_year + 1))\n",
    "trace_count = 3\n",
    "title='Power Plant, Temperature, and CO2 Data'"
   ]
  },
  {
   "cell_type": "code",
   "execution_count": 119,
   "metadata": {},
   "outputs": [],
   "source": [
    "data = []\n",
    "for y in range(start_year, end_year + 1):\n",
    "    data.extend(\n",
    "        [\n",
    "            get_temp_trace_for_year(y),\n",
    "            get_co2_trace_for_year(y),\n",
    "            get_power_trace_for_year(y)\n",
    "        ]\n",
    "    )"
   ]
  },
  {
   "cell_type": "code",
   "execution_count": 120,
   "metadata": {},
   "outputs": [],
   "source": [
    "for i, _ in enumerate(data[:trace_count]):\n",
    "    data[i]['visible'] = True"
   ]
  },
  {
   "cell_type": "code",
   "execution_count": 121,
   "metadata": {},
   "outputs": [],
   "source": [
    "def display_nth_year(n):\n",
    "    visibility = []\n",
    "    for y in range(year_count):\n",
    "        if y == n:\n",
    "            visibility.extend([True] * trace_count)\n",
    "        else:\n",
    "            visibility.extend([False] * trace_count)\n",
    "    return visibility"
   ]
  },
  {
   "cell_type": "code",
   "execution_count": 122,
   "metadata": {},
   "outputs": [],
   "source": [
    "steps = []\n",
    "for i in range(start_year, end_year + 1):\n",
    "    step = dict(\n",
    "        method = 'update',\n",
    "        label = str(i),\n",
    "        args = [\n",
    "            {'visible': display_nth_year(i - start_year)},\n",
    "            {'title.text': title + ' (%d)' % i}],\n",
    "    )\n",
    "    steps.append(step)\n",
    "\n",
    "slider = [\n",
    "    dict(\n",
    "        active = start_year,\n",
    "        currentvalue = {\"prefix\": \"Year: \"},\n",
    "        activebgcolor = '#d9bec8',\n",
    "        pad = {\"t\": 50},\n",
    "        steps = steps\n",
    "    )\n",
    "]"
   ]
  },
  {
   "cell_type": "code",
   "execution_count": 123,
   "metadata": {},
   "outputs": [],
   "source": [
    "layout = go.Layout(\n",
    "    title = go.layout.Title(\n",
    "        text = title + ' (%d)' % start_year\n",
    "    ),\n",
    "    width=1000,\n",
    "    height=750,\n",
    "    autosize=False,\n",
    "    showlegend=False,\n",
    "    geo = go.layout.Geo(\n",
    "        scope = 'usa',\n",
    "        projection = go.layout.geo.Projection(type = 'albers usa'),\n",
    "        showlakes = True,\n",
    "        lakecolor = 'rgb(255, 255, 255)'\n",
    "    ),\n",
    "    sliders=slider\n",
    ")"
   ]
  },
  {
   "cell_type": "code",
   "execution_count": 124,
   "metadata": {
    "scrolled": false
   },
   "outputs": [
    {
     "data": {
      "text/html": [
       "<iframe id=\"igraph\" scrolling=\"no\" style=\"border:none;\" seamless=\"seamless\" src=\"https://plot.ly/~wcsmith/16.embed\" height=\"750px\" width=\"1000px\"></iframe>"
      ],
      "text/plain": [
       "<plotly.tools.PlotlyDisplay object>"
      ]
     },
     "execution_count": 124,
     "metadata": {},
     "output_type": "execute_result"
    }
   ],
   "source": [
    "fig = go.Figure(data=data, layout=layout)\n",
    "py.iplot(fig, filename = 'd3-combo-slider-map')"
   ]
  },
  {
   "cell_type": "code",
   "execution_count": null,
   "metadata": {},
   "outputs": [],
   "source": []
  }
 ],
 "metadata": {
  "kernelspec": {
   "display_name": "Python 3",
   "language": "python",
   "name": "python3"
  },
  "language_info": {
   "codemirror_mode": {
    "name": "ipython",
    "version": 3
   },
   "file_extension": ".py",
   "mimetype": "text/x-python",
   "name": "python",
   "nbconvert_exporter": "python",
   "pygments_lexer": "ipython3",
   "version": "3.7.2"
  }
 },
 "nbformat": 4,
 "nbformat_minor": 2
}
