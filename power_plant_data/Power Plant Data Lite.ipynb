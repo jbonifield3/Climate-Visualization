{
 "cells": [
  {
   "cell_type": "markdown",
   "metadata": {},
   "source": [
    "### <center> Plotting EIA Power Plant Data\n",
    "<br>\n",
    "###### This Jupyter Notebook takes in already processed data from the EIA and builds a time series choropleth plot using Plot.ly"
   ]
  },
  {
   "cell_type": "code",
   "execution_count": 9,
   "metadata": {},
   "outputs": [
    {
     "data": {
      "text/html": [
       "<script type=\"text/javascript\">window.PlotlyConfig = {MathJaxConfig: 'local'};</script><script type=\"text/javascript\">if (window.MathJax) {MathJax.Hub.Config({SVG: {font: \"STIX-Web\"}});}</script><script>requirejs.config({paths: { 'plotly': ['https://cdn.plot.ly/plotly-latest.min']},});if(!window._Plotly) {require(['plotly'],function(plotly) {window._Plotly=plotly;});}</script>"
      ],
      "text/vnd.plotly.v1+html": [
       "<script type=\"text/javascript\">window.PlotlyConfig = {MathJaxConfig: 'local'};</script><script type=\"text/javascript\">if (window.MathJax) {MathJax.Hub.Config({SVG: {font: \"STIX-Web\"}});}</script><script>requirejs.config({paths: { 'plotly': ['https://cdn.plot.ly/plotly-latest.min']},});if(!window._Plotly) {require(['plotly'],function(plotly) {window._Plotly=plotly;});}</script>"
      ]
     },
     "metadata": {},
     "output_type": "display_data"
    }
   ],
   "source": [
    "# Get some libraries\n",
    "import pandas as pd\n",
    "import numpy as np\n",
    "import requests\n",
    "\n",
    "import plotly.plotly as py\n",
    "import plotly.tools as tools\n",
    "import plotly.graph_objs as go\n",
    "from plotly.offline import download_plotlyjs, init_notebook_mode, plot, iplot\n",
    "\n",
    "#import dash\n",
    "#import dash_core_components as dcc\n",
    "#import dash_html_components as html\n",
    "#from dash.dependencies import Input, Output\n",
    "\n",
    "init_notebook_mode(connected=True)"
   ]
  },
  {
   "cell_type": "markdown",
   "metadata": {},
   "source": [
    "<b>Important</b><br><br>You must fill in a Mapbox access token to use this notebook. Plotly username/key not necessary"
   ]
  },
  {
   "cell_type": "code",
   "execution_count": 17,
   "metadata": {},
   "outputs": [],
   "source": [
    "# Fill these Variables with your copy\n",
    "\n",
    "# Mapbox Access Token\n",
    "# Will need to create a free Mapbox account to use\n",
    "my_mapbox_access_token = 'pk.eyJ1IjoiamJvbmlmaWVsZDMiLCJhIjoiY2o5bjJrdjRjNHl4NTMzcW0zanR4Z2Z6eCJ9.ooDfIgzxDtQTHq5GPHBErA'\n",
    "\n",
    "# Plotly Username and API Key\n",
    "# Will need to create a free Plot.ly account to use\n",
    "\n",
    "username = 'jbonifield3'\n",
    "plotly_api_key = '6WzCVz8xdvAVZbGfH0qI'\n"
   ]
  },
  {
   "cell_type": "markdown",
   "metadata": {},
   "source": [
    "<b> Define some functions used to generate formatting and data traces/layout for the plot\n"
   ]
  },
  {
   "cell_type": "code",
   "execution_count": 10,
   "metadata": {},
   "outputs": [],
   "source": [
    "### Define some functions used to generate formatting and data traces for the plot\n",
    "\n",
    "###   Function \"get_formatting\"\n",
    "###   args: Class (str) - whether powerplant is \"Clean\" or \"Fossil\", i.e. CO2 emitting\n",
    "\n",
    "def get_formatting(df, min_point, max_point, min_netgen, max_netgen):\n",
    "    \n",
    "    # Get Colors for points\n",
    "    if df['Class'] == 'Clean':\n",
    "        vals = ['rgb(0, 128, 0)','rgb(144, 238, 144)']\n",
    "    elif df['Class'] == 'Fossil':\n",
    "        vals = ['rgb(255, 0, 0)','rgb(242, 177, 172)']\n",
    "    else:\n",
    "        raise Exception('Invalid Class {} found.'.format(Class))\n",
    "        \n",
    "    #Normalize netgen data to 0-1 range\n",
    "    vals.append(min_point + ((df['netgen'] - min_netgen) / (max_netgen - min_netgen)) * (max_point - min_point))\n",
    "    return vals\n",
    "\n",
    "###   Function \"generate_plot_data\"\n",
    "###   args: \n",
    "###     df (pandas dataframe) - data to plot, must have \"Latitude\", \"Lonigitude\", \"year\", & \"Formatting\" columns\n",
    "###     start_year (int) - year to start plot. \n",
    "###     end_year (int) - year to end plot\n",
    "\n",
    "def generate_plot_data(df, start_year, end_year):\n",
    "    data = [go.Scattermapbox(\n",
    "        lat=df['Latitude'][df['year'] == x],\n",
    "        lon=df['Longitude'][df['year'] == x],\n",
    "        mode='markers',\n",
    "        marker=go.scattermapbox.Marker(\n",
    "            size=[i[2] for i in df['Formatting'][df['year'] == x].tolist()],\n",
    "            color=[i[0] for i in df['Formatting'][df['year'] == x].tolist()],\n",
    "            opacity=0.7\n",
    "        ),\n",
    "        text = df[['plant name','netgen']][df['year'] == x]\n",
    "        .apply(lambda j: '<br>Net Generation (MWh): '.join(j.astype(str)), axis=1),\n",
    "        #text = df['plant name'][df['year'] == x] + '\\n' + 'Net Generation: ' + str(df['netgen'][df['year'] == x]) + 'MWh',\n",
    "        hoverinfo='text') for x in range(start_year, end_year+1)]\n",
    "    data[end_year-start_year]['visible'] = True\n",
    "    return data\n",
    "\n",
    "###   Function \"generate_plot_layout\"\n",
    "###   args: \n",
    "###     title (str),\n",
    "###     start_year (int),\n",
    "###     end_year (int),\n",
    "###     mapbox_access_token (str),\n",
    "###     center (list of lat/long),\n",
    "###     style (mapbox parameter)\n",
    "###   First, builds slider then builds layout including slider\n",
    "\n",
    "def generate_plot_layout(title, start_year, end_year, mapbox_access_token, center = (38,-94) ,style = 'light'):\n",
    "    \n",
    "    # Build Slider\n",
    "    steps = []\n",
    "    for i in range(start_year,end_year + 1):\n",
    "        step = dict(\n",
    "            method = 'update',\n",
    "            label = str(i),\n",
    "            args = [\n",
    "                {'visible': [False] * (end_year-start_year + 1)},\n",
    "                {'title.text': title + ' (%d)' % i},\n",
    "                {'frame': {'duration': 300, 'redraw': False},\n",
    "                 'mode': 'immediate',\n",
    "                 'transition': {'duration': 300}}\n",
    "            ]\n",
    "        )\n",
    "        step['args'][0]['visible'][i - start_year] = True # Toggle i'th trace to \"visible\"\n",
    "        steps.append(step)\n",
    "        \n",
    "    new_slider = [dict(\n",
    "        active = start_year,\n",
    "        currentvalue = {\"prefix\": \"Year: \"},\n",
    "        activebgcolor = '#d9bec8',\n",
    "        pad = {\"t\": 50},\n",
    "        steps = steps)]\n",
    "        \n",
    "    # Build Layout \n",
    "    return go.Layout(\n",
    "        title= {'text': title + ' (%d)' % start_year},\n",
    "        autosize = True,\n",
    "        hovermode = 'closest',\n",
    "        showlegend = False,\n",
    "        sliders = new_slider,\n",
    "        mapbox = dict(\n",
    "            accesstoken = mapbox_access_token,\n",
    "            bearing = 0,\n",
    "            center = dict(\n",
    "                lat = center[0],\n",
    "                lon = center[1]\n",
    "            ),\n",
    "        pitch = 0,\n",
    "        zoom = 3,\n",
    "        style = style))\n"
   ]
  },
  {
   "cell_type": "markdown",
   "metadata": {},
   "source": [
    "<b>Next, we'll get the data from Google Drive and apply the formatting function to generate a list in the DF with attributes like: </b><br>\n",
    "    * Color (clean vs polluting) \n",
    "    * Size (based on netgen)"
   ]
  },
  {
   "cell_type": "code",
   "execution_count": 14,
   "metadata": {},
   "outputs": [
    {
     "data": {
      "text/html": [
       "<div>\n",
       "<style scoped>\n",
       "    .dataframe tbody tr th:only-of-type {\n",
       "        vertical-align: middle;\n",
       "    }\n",
       "\n",
       "    .dataframe tbody tr th {\n",
       "        vertical-align: top;\n",
       "    }\n",
       "\n",
       "    .dataframe thead th {\n",
       "        text-align: right;\n",
       "    }\n",
       "</style>\n",
       "<table border=\"1\" class=\"dataframe\">\n",
       "  <thead>\n",
       "    <tr style=\"text-align: right;\">\n",
       "      <th></th>\n",
       "      <th>plant id</th>\n",
       "      <th>plant name</th>\n",
       "      <th>state</th>\n",
       "      <th>year</th>\n",
       "      <th>County</th>\n",
       "      <th>Latitude</th>\n",
       "      <th>Longitude</th>\n",
       "      <th>In Service Year</th>\n",
       "      <th>Class</th>\n",
       "      <th>PrimaryFuelType</th>\n",
       "      <th>netgen</th>\n",
       "    </tr>\n",
       "  </thead>\n",
       "  <tbody>\n",
       "    <tr>\n",
       "      <th>0</th>\n",
       "      <td>2</td>\n",
       "      <td>Bankhead Dam</td>\n",
       "      <td>AL</td>\n",
       "      <td>1970</td>\n",
       "      <td>Tuscaloosa</td>\n",
       "      <td>33.458665</td>\n",
       "      <td>-87.35682</td>\n",
       "      <td>1963</td>\n",
       "      <td>Clean</td>\n",
       "      <td>Hydroelectric</td>\n",
       "      <td>147701.7</td>\n",
       "    </tr>\n",
       "    <tr>\n",
       "      <th>1</th>\n",
       "      <td>2</td>\n",
       "      <td>Bankhead Dam</td>\n",
       "      <td>AL</td>\n",
       "      <td>1971</td>\n",
       "      <td>Tuscaloosa</td>\n",
       "      <td>33.458665</td>\n",
       "      <td>-87.35682</td>\n",
       "      <td>1963</td>\n",
       "      <td>Clean</td>\n",
       "      <td>Hydroelectric</td>\n",
       "      <td>188612.0</td>\n",
       "    </tr>\n",
       "    <tr>\n",
       "      <th>2</th>\n",
       "      <td>2</td>\n",
       "      <td>Bankhead Dam</td>\n",
       "      <td>AL</td>\n",
       "      <td>1972</td>\n",
       "      <td>Tuscaloosa</td>\n",
       "      <td>33.458665</td>\n",
       "      <td>-87.35682</td>\n",
       "      <td>1963</td>\n",
       "      <td>Clean</td>\n",
       "      <td>Hydroelectric</td>\n",
       "      <td>158977.6</td>\n",
       "    </tr>\n",
       "    <tr>\n",
       "      <th>3</th>\n",
       "      <td>2</td>\n",
       "      <td>Bankhead Dam</td>\n",
       "      <td>AL</td>\n",
       "      <td>1973</td>\n",
       "      <td>Tuscaloosa</td>\n",
       "      <td>33.458665</td>\n",
       "      <td>-87.35682</td>\n",
       "      <td>1963</td>\n",
       "      <td>Clean</td>\n",
       "      <td>Hydroelectric</td>\n",
       "      <td>225054.0</td>\n",
       "    </tr>\n",
       "    <tr>\n",
       "      <th>4</th>\n",
       "      <td>2</td>\n",
       "      <td>Bankhead Dam</td>\n",
       "      <td>AL</td>\n",
       "      <td>1974</td>\n",
       "      <td>Tuscaloosa</td>\n",
       "      <td>33.458665</td>\n",
       "      <td>-87.35682</td>\n",
       "      <td>1963</td>\n",
       "      <td>Clean</td>\n",
       "      <td>Hydroelectric</td>\n",
       "      <td>195276.0</td>\n",
       "    </tr>\n",
       "  </tbody>\n",
       "</table>\n",
       "</div>"
      ],
      "text/plain": [
       "   plant id    plant name state  year      County   Latitude  Longitude  \\\n",
       "0         2  Bankhead Dam    AL  1970  Tuscaloosa  33.458665  -87.35682   \n",
       "1         2  Bankhead Dam    AL  1971  Tuscaloosa  33.458665  -87.35682   \n",
       "2         2  Bankhead Dam    AL  1972  Tuscaloosa  33.458665  -87.35682   \n",
       "3         2  Bankhead Dam    AL  1973  Tuscaloosa  33.458665  -87.35682   \n",
       "4         2  Bankhead Dam    AL  1974  Tuscaloosa  33.458665  -87.35682   \n",
       "\n",
       "   In Service Year  Class PrimaryFuelType    netgen  \n",
       "0             1963  Clean   Hydroelectric  147701.7  \n",
       "1             1963  Clean   Hydroelectric  188612.0  \n",
       "2             1963  Clean   Hydroelectric  158977.6  \n",
       "3             1963  Clean   Hydroelectric  225054.0  \n",
       "4             1963  Clean   Hydroelectric  195276.0  "
      ]
     },
     "execution_count": 14,
     "metadata": {},
     "output_type": "execute_result"
    }
   ],
   "source": [
    "### Get cleaned data from Google Drive into Pandas\n",
    "\n",
    "url = 'https://docs.google.com/spreadsheets/d/1Pn3L_yltqpL92LQ-pxy8GwiXDaaxbsKELlM_Yrv3v_4/export?format=csv'\n",
    "data = pd.read_csv(url)\n",
    "\n",
    "# Round Netgen numbers\n",
    "data.round({'netgen':0})\n",
    "data.head(5)"
   ]
  },
  {
   "cell_type": "code",
   "execution_count": 15,
   "metadata": {},
   "outputs": [],
   "source": [
    "min_val = 4\n",
    "max_val = 20\n",
    "max_netgen = data['netgen'].max()\n",
    "min_netgen = data['netgen'].min()\n",
    "data['Formatting'] = data.apply(lambda x: get_formatting(x, min_val, max_val, min_netgen, max_netgen), axis=1)"
   ]
  },
  {
   "cell_type": "markdown",
   "metadata": {},
   "source": [
    "<b>Build Plot Components and Plot</b>"
   ]
  },
  {
   "cell_type": "code",
   "execution_count": 16,
   "metadata": {},
   "outputs": [
    {
     "ename": "NameError",
     "evalue": "name 'my_mapbox_access_token' is not defined",
     "output_type": "error",
     "traceback": [
      "\u001b[0;31m---------------------------------------------------------------------------\u001b[0m",
      "\u001b[0;31mNameError\u001b[0m                                 Traceback (most recent call last)",
      "\u001b[0;32m<ipython-input-16-deb3138ec003>\u001b[0m in \u001b[0;36m<module>\u001b[0;34m\u001b[0m\n\u001b[1;32m      6\u001b[0m \u001b[0;34m\u001b[0m\u001b[0m\n\u001b[1;32m      7\u001b[0m \u001b[0mplot_data\u001b[0m \u001b[0;34m=\u001b[0m \u001b[0mgenerate_plot_data\u001b[0m\u001b[0;34m(\u001b[0m\u001b[0mdata\u001b[0m\u001b[0;34m,\u001b[0m \u001b[0mstart_year\u001b[0m\u001b[0;34m,\u001b[0m \u001b[0mend_year\u001b[0m\u001b[0;34m)\u001b[0m\u001b[0;34m\u001b[0m\u001b[0;34m\u001b[0m\u001b[0m\n\u001b[0;32m----> 8\u001b[0;31m \u001b[0mplot_layout\u001b[0m \u001b[0;34m=\u001b[0m \u001b[0mgenerate_plot_layout\u001b[0m\u001b[0;34m(\u001b[0m\u001b[0mtitle\u001b[0m\u001b[0;34m,\u001b[0m \u001b[0mstart_year\u001b[0m\u001b[0;34m,\u001b[0m \u001b[0mend_year\u001b[0m\u001b[0;34m,\u001b[0m \u001b[0mmy_mapbox_access_token\u001b[0m\u001b[0;34m,\u001b[0m \u001b[0mstyle\u001b[0m \u001b[0;34m=\u001b[0m \u001b[0;34m'dark'\u001b[0m\u001b[0;34m)\u001b[0m\u001b[0;34m\u001b[0m\u001b[0;34m\u001b[0m\u001b[0m\n\u001b[0m",
      "\u001b[0;31mNameError\u001b[0m: name 'my_mapbox_access_token' is not defined"
     ]
    }
   ],
   "source": [
    "### Set Parameters and Build Plot Components\n",
    "\n",
    "start_year = 1970\n",
    "end_year = 1975\n",
    "title = 'US Power Plant Generation' \n",
    "\n",
    "plot_data = generate_plot_data(data, start_year, end_year)\n",
    "plot_layout = generate_plot_layout(title, start_year, end_year, my_mapbox_access_token, style = 'dark')\n"
   ]
  },
  {
   "cell_type": "code",
   "execution_count": 309,
   "metadata": {},
   "outputs": [
    {
     "data": {
      "text/html": [
       "<iframe id=\"igraph\" scrolling=\"no\" style=\"border:none;\" seamless=\"seamless\" src=\"https://plot.ly/~jbonifield3/48.embed\" height=\"525px\" width=\"100%\"></iframe>"
      ],
      "text/plain": [
       "<plotly.tools.PlotlyDisplay object>"
      ]
     },
     "execution_count": 309,
     "metadata": {},
     "output_type": "execute_result"
    }
   ],
   "source": [
    "### Plot Data\n",
    "\n",
    "fig = dict(data = plot_data, layout = plot_layout)\n",
    "py.iplot(fig, filename='US Power Plants (1970-2000)')"
   ]
  }
 ],
 "metadata": {
  "kernelspec": {
   "display_name": "Python 3",
   "language": "python",
   "name": "python3"
  },
  "language_info": {
   "codemirror_mode": {
    "name": "ipython",
    "version": 3
   },
   "file_extension": ".py",
   "mimetype": "text/x-python",
   "name": "python",
   "nbconvert_exporter": "python",
   "pygments_lexer": "ipython3",
   "version": "3.7.3"
  }
 },
 "nbformat": 4,
 "nbformat_minor": 2
}
