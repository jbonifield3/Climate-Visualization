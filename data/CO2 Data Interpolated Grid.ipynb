{
 "cells": [
  {
   "cell_type": "markdown",
   "metadata": {},
   "source": [
    "# Get Libraries"
   ]
  },
  {
   "cell_type": "code",
   "execution_count": 20,
   "metadata": {},
   "outputs": [],
   "source": [
    "# Get some libraries\n",
    "import pandas as pd\n",
    "import numpy as np\n",
    "import requests\n",
    "\n",
    "import plotly.plotly as py\n",
    "import plotly.tools as tools\n",
    "import plotly.graph_objs as go\n",
    "from plotly.offline import download_plotlyjs, init_notebook_mode, plot, iplot\n",
    "import plotly.offline as py_off\n",
    "from plotly.graph_objs import *"
   ]
  },
  {
   "cell_type": "markdown",
   "metadata": {},
   "source": [
    "Set username for mapbox"
   ]
  },
  {
   "cell_type": "code",
   "execution_count": 21,
   "metadata": {},
   "outputs": [],
   "source": [
    "# Fill these Variables with your copy\n",
    "\n",
    "# Mapbox Access Token\n",
    "# Will need to create a free Mapbox account to use\n",
    "my_mapbox_access_token = 'pk.eyJ1IjoiamJvbmlmaWVsZDMiLCJhIjoiY2o5bjJrdjRjNHl4NTMzcW0zanR4Z2Z6eCJ9.ooDfIgzxDtQTHq5GPHBErA'\n",
    "\n",
    "# Plotly Username and API Key\n",
    "# Will need to create a free Plot.ly account to use\n",
    "\n",
    "username = 'dcarvallo3'\n",
    "plotly_api_key = 'wjACCAYB0hYBeMemhcJW'"
   ]
  },
  {
   "cell_type": "markdown",
   "metadata": {},
   "source": [
    "### Get local CSV data"
   ]
  },
  {
   "cell_type": "markdown",
   "metadata": {},
   "source": [
    "get local CSV data, apply latitude/longitdue flip and trim data to continental USA. "
   ]
  },
  {
   "cell_type": "code",
   "execution_count": 22,
   "metadata": {},
   "outputs": [
    {
     "name": "stderr",
     "output_type": "stream",
     "text": [
      "C:\\Users\\dcarv\\Anaconda3\\lib\\site-packages\\ipykernel_launcher.py:7: SettingWithCopyWarning:\n",
      "\n",
      "\n",
      "A value is trying to be set on a copy of a slice from a DataFrame.\n",
      "Try using .loc[row_indexer,col_indexer] = value instead\n",
      "\n",
      "See the caveats in the documentation: http://pandas.pydata.org/pandas-docs/stable/indexing.html#indexing-view-versus-copy\n",
      "\n",
      "C:\\Users\\dcarv\\Anaconda3\\lib\\site-packages\\ipykernel_launcher.py:8: SettingWithCopyWarning:\n",
      "\n",
      "\n",
      "A value is trying to be set on a copy of a slice from a DataFrame.\n",
      "Try using .loc[row_indexer,col_indexer] = value instead\n",
      "\n",
      "See the caveats in the documentation: http://pandas.pydata.org/pandas-docs/stable/indexing.html#indexing-view-versus-copy\n",
      "\n"
     ]
    }
   ],
   "source": [
    "\n",
    "df = pd.read_csv(r'C:\\Users\\dcarv\\Downloads\\CO2-data.csv')\n",
    "data = []\n",
    "#plot one year\n",
    "year = 2013\n",
    "df_set_yr = df[['LAT', 'LONG', str(year)]]\n",
    "df_set_yr[\"DLONG\"] = df['LONG'].apply(lambda x: x-180 if x<180 else x-180)\n",
    "df_set_yr[\"DLAT\"] = df['LAT'].apply(lambda x: -x+90 if x<90 else -x+90)\n",
    "df_set_yr = df_set_yr[df_set_yr[\"DLONG\"] < -60]\n",
    "df_set_yr = df_set_yr[df_set_yr[\"DLONG\"] > -126]\n",
    "df_set_yr = df_set_yr[df_set_yr[\"DLAT\"] > 15]\n",
    "df_set_yr = df_set_yr[df_set_yr[\"DLAT\"] < 50]"
   ]
  },
  {
   "cell_type": "markdown",
   "metadata": {},
   "source": [
    "Interpolate all data to a given resolution\n"
   ]
  },
  {
   "cell_type": "code",
   "execution_count": 23,
   "metadata": {},
   "outputs": [
    {
     "name": "stdout",
     "output_type": "stream",
     "text": [
      "(340, 650)\n"
     ]
    }
   ],
   "source": [
    "#create a finer mesh\n",
    "inter_num=10\n",
    "from scipy.interpolate import interp1d, interp2d, interpnd\n",
    "x, y, z  = df_set_yr[\"DLONG\"].values, df_set_yr[\"DLAT\"].values, df_set_yr[str(year)].values\n",
    "# Create the function Z_inter for interpolation:\n",
    "Z_inter = interp2d(x, y, z)\n",
    "\n",
    "# Create the x_mesh and y_mesh :\n",
    "x_mesh = np.linspace(x.min(), x.max(), num=len(set(x))*inter_num)\n",
    "y_mesh = np.linspace(y.min(), y.max(), num=len(set(y))*inter_num)\n",
    "\n",
    "#print(x_mesh)\n",
    "#print(y_mesh)\n",
    "Z_interpolated = Z_inter(x_mesh, y_mesh)\n",
    "print(Z_interpolated.shape)\n",
    "#values=list(Z_interpolated.flatten())\n",
    "\n",
    "LATS=[]\n",
    "LONG=[]\n",
    "VALS=[]\n",
    "for xn in range(Z_interpolated.shape[1]):\n",
    "    for yn in range(Z_interpolated.shape[0]):\n",
    "        LATS.append(y_mesh[yn])\n",
    "        LONG.append(x_mesh[xn])\n",
    "        VALS.append(Z_interpolated[yn,xn])\n",
    "        \n",
    "        \n",
    "#print(len(LATS))\n",
    "assert len(LATS)==len(VALS)\n",
    "assert len(LONG)==len(VALS)\n",
    "assert len(LATS)==len(LONG)\n",
    "interp_df = pd.DataFrame(list(zip(LATS, LONG, VALS)),\n",
    "              columns=['LAT','LONG', 'VAL'])\n",
    "interp_df = interp_df[interp_df['VAL']>0.05]\n"
   ]
  },
  {
   "cell_type": "code",
   "execution_count": 24,
   "metadata": {},
   "outputs": [
    {
     "name": "stdout",
     "output_type": "stream",
     "text": [
      "(101817, 3)\n"
     ]
    }
   ],
   "source": [
    "print(interp_df.shape)"
   ]
  },
  {
   "cell_type": "code",
   "execution_count": 25,
   "metadata": {},
   "outputs": [],
   "source": [
    "# Color Scale\n",
    "scl = [0,\"rgb(255,255,255)\"],[0.25,\"rgb(0, 0, 200)\"],[0.375,\"rgb(0, 25, 255)\"],\\\n",
    "[0.375,\"rgb(0, 152, 255)\"],[0.5,\"rgb(44, 255, 150)\"],[0.625,\"rgb(151, 255, 0)\"],\\\n",
    "[0.75,\"rgb(255, 234, 0)\"],[0.875,\"rgb(255, 111, 0)\"],[1,\"rgb(255, 0, 0)\"]"
   ]
  },
  {
   "cell_type": "markdown",
   "metadata": {},
   "source": [
    "Plot the final result"
   ]
  },
  {
   "cell_type": "code",
   "execution_count": 26,
   "metadata": {},
   "outputs": [
    {
     "data": {
      "text/html": [
       "<iframe id=\"igraph\" scrolling=\"no\" style=\"border:none;\" seamless=\"seamless\" src=\"https://plot.ly/~dcarvallo3/10.embed\" height=\"525px\" width=\"100%\"></iframe>"
      ],
      "text/plain": [
       "<plotly.tools.PlotlyDisplay object>"
      ]
     },
     "execution_count": 26,
     "metadata": {},
     "output_type": "execute_result"
    }
   ],
   "source": [
    "data=[]\n",
    "data.append(\n",
    "    go.Scattermapbox(\n",
    "        lon = interp_df['LONG'],#.apply(lambda x: x-180 if x<180 else x-180),\n",
    "        lat = interp_df['LAT'],#.apply(lambda x: -x+90 if x<90 else -x+90),\n",
    "        mode='markers',\n",
    "        marker=Marker(\n",
    "            color=interp_df['VAL'].values,\n",
    "            colorscale='Jet'\n",
    "        ),\n",
    "    )\n",
    ")\n",
    "\n",
    "layout = Layout(\n",
    "    margin=dict(t=0,b=0,r=0,l=0),\n",
    "    autosize=True,\n",
    "    hovermode='closest',\n",
    "    showlegend=False,\n",
    "    mapbox=dict(\n",
    "        accesstoken=my_mapbox_access_token,\n",
    "        bearing=0,\n",
    "        center=dict(\n",
    "            lat=38,\n",
    "            lon=-94\n",
    "        ),\n",
    "        pitch=0,\n",
    "        zoom=0,\n",
    "        style='light'\n",
    "    ),\n",
    ")\n",
    " \n",
    "fig = dict(data=data, layout=layout)\n",
    "py.iplot(fig, filename='CO2 data in '+str(year))"
   ]
  },
  {
   "cell_type": "code",
   "execution_count": null,
   "metadata": {},
   "outputs": [],
   "source": []
  }
 ],
 "metadata": {
  "kernelspec": {
   "display_name": "Python 3",
   "language": "python",
   "name": "python3"
  },
  "language_info": {
   "codemirror_mode": {
    "name": "ipython",
    "version": 3
   },
   "file_extension": ".py",
   "mimetype": "text/x-python",
   "name": "python",
   "nbconvert_exporter": "python",
   "pygments_lexer": "ipython3",
   "version": "3.7.1"
  }
 },
 "nbformat": 4,
 "nbformat_minor": 2
}
